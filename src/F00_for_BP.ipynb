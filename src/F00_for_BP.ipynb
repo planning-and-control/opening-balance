{
 "metadata": {
  "language_info": {
   "codemirror_mode": {
    "name": "ipython",
    "version": 3
   },
   "file_extension": ".py",
   "mimetype": "text/x-python",
   "name": "python",
   "nbconvert_exporter": "python",
   "pygments_lexer": "ipython3",
   "version": "3.8.6-candidate"
  },
  "orig_nbformat": 2,
  "kernelspec": {
   "name": "python38664bit11ced166a6f240d498655623f8afe25c",
   "display_name": "Python 3.8.6 64-bit"
  }
 },
 "nbformat": 4,
 "nbformat_minor": 2,
 "cells": [
  {
   "cell_type": "code",
   "execution_count": 246,
   "metadata": {},
   "outputs": [],
   "source": [
    "import pandas as pd\n",
    "import os\n",
    "import numpy as nu"
   ]
  },
  {
   "cell_type": "code",
   "execution_count": 247,
   "metadata": {},
   "outputs": [],
   "source": [
    "main_path = 'C:\\\\Users\\\\e347646\\\\EDP\\\\O365_P&C Data Lake - Documents\\\\General'\n",
    "df_out_file = 'Output\\F00_FC20.csv'\n",
    "df_out_file_BS = 'Output\\F00_FC20_BS.csv'\n",
    "df_out_file_PL = 'Output\\F00_FC20_PL.csv'\n",
    "df_out_file_error = 'Output\\F00_FC20_error.csv'\n",
    "df_out_fullpath_error = os.path.join(main_path,df_out_file_error)\n",
    "df_out_fullpath = os.path.join(main_path,df_out_file)\n",
    "df_out_fullpath_BS = os.path.join(main_path,df_out_file_BS)\n",
    "df_out_fullpath_PL = os.path.join(main_path,df_out_file_PL)"
   ]
  },
  {
   "cell_type": "code",
   "execution_count": 248,
   "metadata": {},
   "outputs": [],
   "source": [
    "df_monthly_fullpath = os.path.join(main_path,'DataSources\\\\Actuals\\\\Output\\\\monthly_pl&bs_2020.csv')\n",
    " \n",
    "df_fx_fullpath = os.path.join(main_path,'MetaDataSources\\\\FX\\\\FX.xlsx')"
   ]
  },
  {
   "cell_type": "code",
   "execution_count": 249,
   "metadata": {},
   "outputs": [],
   "source": [
    "df_company_fullpath_08=os.path.join(main_path,'MetaDataSources\\\\\\Company\\\\Source\\\\2020\\\\08\\\\Scope 8M20.csv')\n",
    "df_company_fullpath_07=os.path.join(main_path,'MetaDataSources\\\\\\Company\\\\Source\\\\2020\\\\07\\\\Scope 7M20.csv')\n",
    "df_company_fullpath_06=os.path.join(main_path,'MetaDataSources\\\\\\Company\\\\Source\\\\2020\\\\06\\\\Scope 6M20.csv')\n",
    "df_company_fullpath_05=os.path.join(main_path,'MetaDataSources\\\\\\Company\\\\Source\\\\2020\\\\05\\\\Scope 5M20.csv')\n",
    "df_company_fullpath_04=os.path.join(main_path,'MetaDataSources\\\\\\Company\\\\Source\\\\2020\\\\04\\\\Scope 4M20.csv')\n",
    "df_company_fullpath_03=os.path.join(main_path,'MetaDataSources\\\\\\Company\\\\Source\\\\2020\\\\03\\\\Scope 3M20.csv')\n",
    "df_company_fullpath_02=os.path.join(main_path,'MetaDataSources\\\\\\Company\\\\Source\\\\2020\\\\02\\\\Scope 2M20.csv')\n",
    "df_company_fullpath_01=os.path.join(main_path,'MetaDataSources\\\\\\Company\\\\Source\\\\2020\\\\01\\\\Scope 1M20.csv')"
   ]
  },
  {
   "cell_type": "code",
   "execution_count": 250,
   "metadata": {},
   "outputs": [],
   "source": [
    "#df_company_fullpath=pd.concat(df_company_fullpath_01,df_company_fullpath_02,df_company_fullpath_03,df_company_fullpath_04,df_company_fullpath_05,df_company_fullpath_06,df_company_fullpath_07,df_company_fullpath_08)"
   ]
  },
  {
   "cell_type": "code",
   "execution_count": 251,
   "metadata": {},
   "outputs": [],
   "source": [
    "df_monthly = pd.read_csv(df_monthly_fullpath)"
   ]
  },
  {
   "cell_type": "code",
   "execution_count": 252,
   "metadata": {},
   "outputs": [],
   "source": [
    "#data_xls = pd.read_excel('excelfile.xlsx', 'Sheet2', index_col=None)\n",
    "#data_xls.to_csv('csvfile.csv', encoding='utf-8')"
   ]
  },
  {
   "cell_type": "code",
   "execution_count": 253,
   "metadata": {},
   "outputs": [],
   "source": [
    "df_fx = pd.read_excel(df_fx_fullpath)"
   ]
  },
  {
   "cell_type": "code",
   "execution_count": 254,
   "metadata": {},
   "outputs": [],
   "source": [
    "df_company_01= pd.read_csv(df_company_fullpath_01,  encoding=\"utf-16\")\n",
    "df_company_02= pd.read_csv(df_company_fullpath_02,  encoding=\"utf-16\")\n",
    "df_company_03= pd.read_csv(df_company_fullpath_03,  encoding=\"utf-16\")\n",
    "df_company_04= pd.read_csv(df_company_fullpath_04,  encoding=\"utf-16\")\n",
    "df_company_05= pd.read_csv(df_company_fullpath_05,  encoding=\"utf-16\")\n",
    "df_company_06= pd.read_csv(df_company_fullpath_06,  encoding=\"utf-16\")\n",
    "df_company_07= pd.read_csv(df_company_fullpath_07,  encoding=\"utf-16\")\n",
    "df_company_08= pd.read_csv(df_company_fullpath_08,  encoding=\"utf-16\")\n",
    "#df_company = pd.read_csv(df_company_fullpath,  encoding=\"utf-16\")"
   ]
  },
  {
   "cell_type": "code",
   "execution_count": 255,
   "metadata": {},
   "outputs": [],
   "source": [
    "#df_company= pd.merge(df_company_01, df_company_02, df_company_03, df_company_04, df_company_05, df_company_06, df_company_07, df_company_08, how='outer', on=['Reporting unit (code)'])"
   ]
  },
  {
   "cell_type": "code",
   "execution_count": 256,
   "metadata": {},
   "outputs": [],
   "source": [
    "df_company_01['PERIOD'] = \"2020-01-01\"\n",
    "\n",
    "df_company_02['PERIOD'] = \"2020-02-01\"\n",
    "\n",
    "df_company_03['PERIOD'] = \"2020-03-01\"\n",
    "\n",
    "df_company_04['PERIOD'] = \"2020-04-01\"\n",
    "\n",
    "df_company_05['PERIOD'] = \"2020-05-01\"\n",
    "\n",
    "df_company_06['PERIOD'] = \"2020-06-01\"\n",
    "\n",
    "df_company_07['PERIOD'] = \"2020-07-01\"\n",
    "\n",
    "df_company_08['PERIOD'] = \"2020-08-01\""
   ]
  },
  {
   "cell_type": "code",
   "execution_count": 257,
   "metadata": {},
   "outputs": [],
   "source": [
    "df_company= pd.concat([df_company_01, df_company_02, df_company_03, df_company_04, df_company_05, df_company_06, df_company_07, df_company_08], ignore_index=True)"
   ]
  },
  {
   "cell_type": "code",
   "execution_count": 258,
   "metadata": {},
   "outputs": [
    {
     "output_type": "execute_result",
     "data": {
      "text/plain": "Index(['Reporting unit (code)', 'Reporting unit (description)',\n       'Revised method (Closing)', 'Revised Conso. (Closing)',\n       'Revised Own. Int. (Closing)', 'Revised Fin. Int. (Closing)',\n       'Revised method (Opening package)', 'Revised Conso. (Opening package)',\n       'Revised Own. Int. (Opening package)',\n       'Revised Fin. Int. (Opening package)', 'Scope status (Closing)',\n       'EDPR-NA Scope', 'NEO-3 Scope', 'EDPR-BR Scope', 'EDPR-OF Scope',\n       'Scope', 'Scope-Check', 'Country', 'Management Structure', 'D_CU',\n       'SAP Code_PreAdj', 'SAP description', 'SAP Code', 'PERIOD'],\n      dtype='object')"
     },
     "metadata": {},
     "execution_count": 258
    }
   ],
   "source": [
    "df_company.columns"
   ]
  },
  {
   "cell_type": "code",
   "execution_count": 259,
   "metadata": {},
   "outputs": [],
   "source": [
    "df_company = df_company.rename({'PERIOD': 'D_PE'}, axis='columns')\n",
    "df_company = df_company.rename({'Reporting unit (code)': 'D_RU'}, axis='columns')"
   ]
  },
  {
   "cell_type": "code",
   "execution_count": 260,
   "metadata": {},
   "outputs": [
    {
     "output_type": "execute_result",
     "data": {
      "text/plain": "      D_RU                       Reporting unit (description)  \\\n0     3000                               EDP Renováveis, S.A.   \n1     3001                      EDP Renewables Europe, S.L.U.   \n2     3002                      EDP Renovables España, S.L.U.   \n3     3016  Aprofitament D'Energies Renovables de L'Ebre, ...   \n4     3017  Aprofitament D'Energies Renovables de la Terra...   \n...    ...                                                ...   \n4388  3963                   Nation Rise Wind Farm GP II Inc.   \n4389  3964                         Quatro Limited Partnership   \n4390  3991                   Central Eólica Catanduba I, S.A.   \n4391  3992                  Central Eólica Catanduba II, S.A.   \n4392  6009                                     Windplus, S.A.   \n\n     Revised method (Closing)  Revised Conso. (Closing)  \\\n0                   Full (FC)                100.000000   \n1                   Full (FC)                100.000000   \n2                   Full (FC)                100.000000   \n3          Equity method (EM)                 13.294891   \n4                   Full (FC)                100.000000   \n...                       ...                       ...   \n4388                Full (FC)                100.000000   \n4389                Full (FC)                100.000000   \n4390                Full (FC)                100.000000   \n4391                Full (FC)                100.000000   \n4392    Not consolidated (NC)                  0.000000   \n\n      Revised Own. Int. (Closing)  Revised Fin. Int. (Closing)  \\\n0                      100.000000                   100.000000   \n1                      100.000000                   100.000000   \n2                      100.000000                   100.000000   \n3                       13.294891                    13.294891   \n4                       28.270364                    44.089679   \n...                           ...                          ...   \n4388                   100.000000                   100.000000   \n4389                   100.000000                   100.000000   \n4390                   100.000000                   100.000000   \n4391                   100.000000                   100.000000   \n4392                     0.000000                     0.000000   \n\n     Revised method (Opening package)  Revised Conso. (Opening package)  \\\n0                           Full (FC)                        100.000000   \n1                           Full (FC)                        100.000000   \n2                           Full (FC)                        100.000000   \n3                  Equity method (EM)                         13.294891   \n4                           Full (FC)                        100.000000   \n...                               ...                               ...   \n4388                        Full (FC)                        100.000000   \n4389                        Full (FC)                        100.000000   \n4390                        Full (FC)                        100.000000   \n4391                        Full (FC)                        100.000000   \n4392               Equity method (EM)                         54.400000   \n\n      Revised Own. Int. (Opening package)  \\\n0                              100.000000   \n1                              100.000000   \n2                              100.000000   \n3                               13.294891   \n4                               28.270364   \n...                                   ...   \n4388                           100.000000   \n4389                           100.000000   \n4390                           100.000000   \n4391                           100.000000   \n4392                            54.400000   \n\n      Revised Fin. Int. (Opening package)  ... EDPR-OF Scope         Scope  \\\n0                              100.000000  ...           NaN  GR-EDP-RENOV   \n1                              100.000000  ...           NaN         NEO-3   \n2                              100.000000  ...           NaN         NEO-3   \n3                               13.294891  ...           NaN         NEO-3   \n4                               44.089679  ...           NaN         NEO-3   \n...                                   ...  ...           ...           ...   \n4388                           100.000000  ...           NaN       EDPR-NA   \n4389                           100.000000  ...           NaN       EDPR-NA   \n4390                           100.000000  ...           NaN       EDPR-BR   \n4391                           100.000000  ...           NaN       EDPR-BR   \n4392                            54.400000  ...       EDPR-OF       EDPR-OF   \n\n     Scope-Check Country Management Structure D_CU  SAP Code_PreAdj  \\\n0           True     ESP             S1290000  EUR             2270   \n1           True     ESP             S1211900  EUR             HC85   \n2           True     ESP             S1211112  EUR             HC80   \n3           True     ESP             S1211112  EUR             T539   \n4           True     ESP             S1211112  EUR             T540   \n...          ...     ...                  ...  ...              ...   \n4388        True     CAN             S1212112  CAD             C127   \n4389        True     CAN             S1212112  CAD             C128   \n4390        True     BRA             S1212211  BRL             B161   \n4391        True     BRA             S1212211  BRL             B162   \n4392        True     PRT             S9211110  EUR             2105   \n\n                                        SAP description SAP Code        D_PE  \n0                                     EDP RENOVAVEIS SL     2270  2020-01-01  \n1                           EDP Renewables Europe, S.L.     HC85  2020-01-01  \n2            EDP Renovables España, S. L. (ex-GENESA-2)     HC80  2020-01-01  \n3     Aprofitament D'Energies Renovables de L'Ebre, ...     T539  2020-01-01  \n4     Aprofitament D'Energies Renovables de la Terra...     T540  2020-01-01  \n...                                                 ...      ...         ...  \n4388                   Nation Rise Wind Farm GP II Inc.     C127  2020-08-01  \n4389                         Quatro Limited Partnership     C128  2020-08-01  \n4390                   Central Eólica Catanduba I, S.A.     B161  2020-08-01  \n4391                  Central Eólica Catanduba II, S.A.     B162  2020-08-01  \n4392                                     WINDPLUS, S.A.     2105  2020-08-01  \n\n[4393 rows x 24 columns]",
      "text/html": "<div>\n<style scoped>\n    .dataframe tbody tr th:only-of-type {\n        vertical-align: middle;\n    }\n\n    .dataframe tbody tr th {\n        vertical-align: top;\n    }\n\n    .dataframe thead th {\n        text-align: right;\n    }\n</style>\n<table border=\"1\" class=\"dataframe\">\n  <thead>\n    <tr style=\"text-align: right;\">\n      <th></th>\n      <th>D_RU</th>\n      <th>Reporting unit (description)</th>\n      <th>Revised method (Closing)</th>\n      <th>Revised Conso. (Closing)</th>\n      <th>Revised Own. Int. (Closing)</th>\n      <th>Revised Fin. Int. (Closing)</th>\n      <th>Revised method (Opening package)</th>\n      <th>Revised Conso. (Opening package)</th>\n      <th>Revised Own. Int. (Opening package)</th>\n      <th>Revised Fin. Int. (Opening package)</th>\n      <th>...</th>\n      <th>EDPR-OF Scope</th>\n      <th>Scope</th>\n      <th>Scope-Check</th>\n      <th>Country</th>\n      <th>Management Structure</th>\n      <th>D_CU</th>\n      <th>SAP Code_PreAdj</th>\n      <th>SAP description</th>\n      <th>SAP Code</th>\n      <th>D_PE</th>\n    </tr>\n  </thead>\n  <tbody>\n    <tr>\n      <th>0</th>\n      <td>3000</td>\n      <td>EDP Renováveis, S.A.</td>\n      <td>Full (FC)</td>\n      <td>100.000000</td>\n      <td>100.000000</td>\n      <td>100.000000</td>\n      <td>Full (FC)</td>\n      <td>100.000000</td>\n      <td>100.000000</td>\n      <td>100.000000</td>\n      <td>...</td>\n      <td>NaN</td>\n      <td>GR-EDP-RENOV</td>\n      <td>True</td>\n      <td>ESP</td>\n      <td>S1290000</td>\n      <td>EUR</td>\n      <td>2270</td>\n      <td>EDP RENOVAVEIS SL</td>\n      <td>2270</td>\n      <td>2020-01-01</td>\n    </tr>\n    <tr>\n      <th>1</th>\n      <td>3001</td>\n      <td>EDP Renewables Europe, S.L.U.</td>\n      <td>Full (FC)</td>\n      <td>100.000000</td>\n      <td>100.000000</td>\n      <td>100.000000</td>\n      <td>Full (FC)</td>\n      <td>100.000000</td>\n      <td>100.000000</td>\n      <td>100.000000</td>\n      <td>...</td>\n      <td>NaN</td>\n      <td>NEO-3</td>\n      <td>True</td>\n      <td>ESP</td>\n      <td>S1211900</td>\n      <td>EUR</td>\n      <td>HC85</td>\n      <td>EDP Renewables Europe, S.L.</td>\n      <td>HC85</td>\n      <td>2020-01-01</td>\n    </tr>\n    <tr>\n      <th>2</th>\n      <td>3002</td>\n      <td>EDP Renovables España, S.L.U.</td>\n      <td>Full (FC)</td>\n      <td>100.000000</td>\n      <td>100.000000</td>\n      <td>100.000000</td>\n      <td>Full (FC)</td>\n      <td>100.000000</td>\n      <td>100.000000</td>\n      <td>100.000000</td>\n      <td>...</td>\n      <td>NaN</td>\n      <td>NEO-3</td>\n      <td>True</td>\n      <td>ESP</td>\n      <td>S1211112</td>\n      <td>EUR</td>\n      <td>HC80</td>\n      <td>EDP Renovables España, S. L. (ex-GENESA-2)</td>\n      <td>HC80</td>\n      <td>2020-01-01</td>\n    </tr>\n    <tr>\n      <th>3</th>\n      <td>3016</td>\n      <td>Aprofitament D'Energies Renovables de L'Ebre, ...</td>\n      <td>Equity method (EM)</td>\n      <td>13.294891</td>\n      <td>13.294891</td>\n      <td>13.294891</td>\n      <td>Equity method (EM)</td>\n      <td>13.294891</td>\n      <td>13.294891</td>\n      <td>13.294891</td>\n      <td>...</td>\n      <td>NaN</td>\n      <td>NEO-3</td>\n      <td>True</td>\n      <td>ESP</td>\n      <td>S1211112</td>\n      <td>EUR</td>\n      <td>T539</td>\n      <td>Aprofitament D'Energies Renovables de L'Ebre, ...</td>\n      <td>T539</td>\n      <td>2020-01-01</td>\n    </tr>\n    <tr>\n      <th>4</th>\n      <td>3017</td>\n      <td>Aprofitament D'Energies Renovables de la Terra...</td>\n      <td>Full (FC)</td>\n      <td>100.000000</td>\n      <td>28.270364</td>\n      <td>44.089679</td>\n      <td>Full (FC)</td>\n      <td>100.000000</td>\n      <td>28.270364</td>\n      <td>44.089679</td>\n      <td>...</td>\n      <td>NaN</td>\n      <td>NEO-3</td>\n      <td>True</td>\n      <td>ESP</td>\n      <td>S1211112</td>\n      <td>EUR</td>\n      <td>T540</td>\n      <td>Aprofitament D'Energies Renovables de la Terra...</td>\n      <td>T540</td>\n      <td>2020-01-01</td>\n    </tr>\n    <tr>\n      <th>...</th>\n      <td>...</td>\n      <td>...</td>\n      <td>...</td>\n      <td>...</td>\n      <td>...</td>\n      <td>...</td>\n      <td>...</td>\n      <td>...</td>\n      <td>...</td>\n      <td>...</td>\n      <td>...</td>\n      <td>...</td>\n      <td>...</td>\n      <td>...</td>\n      <td>...</td>\n      <td>...</td>\n      <td>...</td>\n      <td>...</td>\n      <td>...</td>\n      <td>...</td>\n      <td>...</td>\n    </tr>\n    <tr>\n      <th>4388</th>\n      <td>3963</td>\n      <td>Nation Rise Wind Farm GP II Inc.</td>\n      <td>Full (FC)</td>\n      <td>100.000000</td>\n      <td>100.000000</td>\n      <td>100.000000</td>\n      <td>Full (FC)</td>\n      <td>100.000000</td>\n      <td>100.000000</td>\n      <td>100.000000</td>\n      <td>...</td>\n      <td>NaN</td>\n      <td>EDPR-NA</td>\n      <td>True</td>\n      <td>CAN</td>\n      <td>S1212112</td>\n      <td>CAD</td>\n      <td>C127</td>\n      <td>Nation Rise Wind Farm GP II Inc.</td>\n      <td>C127</td>\n      <td>2020-08-01</td>\n    </tr>\n    <tr>\n      <th>4389</th>\n      <td>3964</td>\n      <td>Quatro Limited Partnership</td>\n      <td>Full (FC)</td>\n      <td>100.000000</td>\n      <td>100.000000</td>\n      <td>100.000000</td>\n      <td>Full (FC)</td>\n      <td>100.000000</td>\n      <td>100.000000</td>\n      <td>100.000000</td>\n      <td>...</td>\n      <td>NaN</td>\n      <td>EDPR-NA</td>\n      <td>True</td>\n      <td>CAN</td>\n      <td>S1212112</td>\n      <td>CAD</td>\n      <td>C128</td>\n      <td>Quatro Limited Partnership</td>\n      <td>C128</td>\n      <td>2020-08-01</td>\n    </tr>\n    <tr>\n      <th>4390</th>\n      <td>3991</td>\n      <td>Central Eólica Catanduba I, S.A.</td>\n      <td>Full (FC)</td>\n      <td>100.000000</td>\n      <td>100.000000</td>\n      <td>100.000000</td>\n      <td>Full (FC)</td>\n      <td>100.000000</td>\n      <td>100.000000</td>\n      <td>100.000000</td>\n      <td>...</td>\n      <td>NaN</td>\n      <td>EDPR-BR</td>\n      <td>True</td>\n      <td>BRA</td>\n      <td>S1212211</td>\n      <td>BRL</td>\n      <td>B161</td>\n      <td>Central Eólica Catanduba I, S.A.</td>\n      <td>B161</td>\n      <td>2020-08-01</td>\n    </tr>\n    <tr>\n      <th>4391</th>\n      <td>3992</td>\n      <td>Central Eólica Catanduba II, S.A.</td>\n      <td>Full (FC)</td>\n      <td>100.000000</td>\n      <td>100.000000</td>\n      <td>100.000000</td>\n      <td>Full (FC)</td>\n      <td>100.000000</td>\n      <td>100.000000</td>\n      <td>100.000000</td>\n      <td>...</td>\n      <td>NaN</td>\n      <td>EDPR-BR</td>\n      <td>True</td>\n      <td>BRA</td>\n      <td>S1212211</td>\n      <td>BRL</td>\n      <td>B162</td>\n      <td>Central Eólica Catanduba II, S.A.</td>\n      <td>B162</td>\n      <td>2020-08-01</td>\n    </tr>\n    <tr>\n      <th>4392</th>\n      <td>6009</td>\n      <td>Windplus, S.A.</td>\n      <td>Not consolidated (NC)</td>\n      <td>0.000000</td>\n      <td>0.000000</td>\n      <td>0.000000</td>\n      <td>Equity method (EM)</td>\n      <td>54.400000</td>\n      <td>54.400000</td>\n      <td>54.400000</td>\n      <td>...</td>\n      <td>EDPR-OF</td>\n      <td>EDPR-OF</td>\n      <td>True</td>\n      <td>PRT</td>\n      <td>S9211110</td>\n      <td>EUR</td>\n      <td>2105</td>\n      <td>WINDPLUS, S.A.</td>\n      <td>2105</td>\n      <td>2020-08-01</td>\n    </tr>\n  </tbody>\n</table>\n<p>4393 rows × 24 columns</p>\n</div>"
     },
     "metadata": {},
     "execution_count": 260
    }
   ],
   "source": [
    "df_company"
   ]
  },
  {
   "cell_type": "code",
   "execution_count": 261,
   "metadata": {},
   "outputs": [
    {
     "output_type": "execute_result",
     "data": {
      "text/plain": "Index(['D_RU', 'D_AC', 'T1', 'D_AU', 'D_FL', 'EUR_Amount', 'D_LE', 'D_NU',\n       'D_PE', 'D_SP', 'D_CO', 'D_SC'],\n      dtype='object')"
     },
     "metadata": {},
     "execution_count": 261
    }
   ],
   "source": [
    "df_monthly.columns"
   ]
  },
  {
   "cell_type": "code",
   "execution_count": 262,
   "metadata": {},
   "outputs": [
    {
     "output_type": "execute_result",
     "data": {
      "text/plain": "         D_RU      D_AC     T1    D_AU D_FL  EUR_Amount   D_LE   D_NU  \\\n0        3890  A2111400   3896  0LIA01  F00    27457.12    NaN    NaN   \n1        3890  A2111400   3896  2ELI15  F00   -27457.12    NaN    NaN   \n2        3890  A2111400   3898  0LIA01  F00    22557.55    NaN    NaN   \n3        3890  A2111400   3898  2ELI15  F00   -22557.55    NaN    NaN   \n4        3890  A2111400   3900  0LIA01  F00   626594.85    NaN    NaN   \n...       ...       ...    ...     ...  ...         ...    ...    ...   \n1061210  6009  R7820000  S9999  3REP15  F10  -227843.00  CONSO   93.0   \n1061211  6009  R7820000  S9999  3REP15  F10  -227843.00  CONSO  152.0   \n1061212  6009  R7820000  S9999  3REP15  F10   227843.00  CONSO   93.0   \n1061213  6009  R7820000  S9999  3REP15  F10   227843.00  CONSO  152.0   \n1061214  6009  R7820000  S9999  3REP15  F10  -227843.00  CONSO   39.0   \n\n               D_PE D_SP          D_CO    D_SC  \n0        2020-01-01   BR  Consolidated  Actual  \n1        2020-01-01   BR  Consolidated  Actual  \n2        2020-01-01   BR  Consolidated  Actual  \n3        2020-01-01   BR  Consolidated  Actual  \n4        2020-01-01   BR  Consolidated  Actual  \n...             ...  ...           ...     ...  \n1061210  2020-06-01   CH  Consolidated  Actual  \n1061211  2020-07-01   CH  Consolidated  Actual  \n1061212  2020-07-01   CH  Consolidated  Actual  \n1061213  2020-08-01   CH  Consolidated  Actual  \n1061214  2020-08-01   CH  Consolidated  Actual  \n\n[1061215 rows x 12 columns]",
      "text/html": "<div>\n<style scoped>\n    .dataframe tbody tr th:only-of-type {\n        vertical-align: middle;\n    }\n\n    .dataframe tbody tr th {\n        vertical-align: top;\n    }\n\n    .dataframe thead th {\n        text-align: right;\n    }\n</style>\n<table border=\"1\" class=\"dataframe\">\n  <thead>\n    <tr style=\"text-align: right;\">\n      <th></th>\n      <th>D_RU</th>\n      <th>D_AC</th>\n      <th>T1</th>\n      <th>D_AU</th>\n      <th>D_FL</th>\n      <th>EUR_Amount</th>\n      <th>D_LE</th>\n      <th>D_NU</th>\n      <th>D_PE</th>\n      <th>D_SP</th>\n      <th>D_CO</th>\n      <th>D_SC</th>\n    </tr>\n  </thead>\n  <tbody>\n    <tr>\n      <th>0</th>\n      <td>3890</td>\n      <td>A2111400</td>\n      <td>3896</td>\n      <td>0LIA01</td>\n      <td>F00</td>\n      <td>27457.12</td>\n      <td>NaN</td>\n      <td>NaN</td>\n      <td>2020-01-01</td>\n      <td>BR</td>\n      <td>Consolidated</td>\n      <td>Actual</td>\n    </tr>\n    <tr>\n      <th>1</th>\n      <td>3890</td>\n      <td>A2111400</td>\n      <td>3896</td>\n      <td>2ELI15</td>\n      <td>F00</td>\n      <td>-27457.12</td>\n      <td>NaN</td>\n      <td>NaN</td>\n      <td>2020-01-01</td>\n      <td>BR</td>\n      <td>Consolidated</td>\n      <td>Actual</td>\n    </tr>\n    <tr>\n      <th>2</th>\n      <td>3890</td>\n      <td>A2111400</td>\n      <td>3898</td>\n      <td>0LIA01</td>\n      <td>F00</td>\n      <td>22557.55</td>\n      <td>NaN</td>\n      <td>NaN</td>\n      <td>2020-01-01</td>\n      <td>BR</td>\n      <td>Consolidated</td>\n      <td>Actual</td>\n    </tr>\n    <tr>\n      <th>3</th>\n      <td>3890</td>\n      <td>A2111400</td>\n      <td>3898</td>\n      <td>2ELI15</td>\n      <td>F00</td>\n      <td>-22557.55</td>\n      <td>NaN</td>\n      <td>NaN</td>\n      <td>2020-01-01</td>\n      <td>BR</td>\n      <td>Consolidated</td>\n      <td>Actual</td>\n    </tr>\n    <tr>\n      <th>4</th>\n      <td>3890</td>\n      <td>A2111400</td>\n      <td>3900</td>\n      <td>0LIA01</td>\n      <td>F00</td>\n      <td>626594.85</td>\n      <td>NaN</td>\n      <td>NaN</td>\n      <td>2020-01-01</td>\n      <td>BR</td>\n      <td>Consolidated</td>\n      <td>Actual</td>\n    </tr>\n    <tr>\n      <th>...</th>\n      <td>...</td>\n      <td>...</td>\n      <td>...</td>\n      <td>...</td>\n      <td>...</td>\n      <td>...</td>\n      <td>...</td>\n      <td>...</td>\n      <td>...</td>\n      <td>...</td>\n      <td>...</td>\n      <td>...</td>\n    </tr>\n    <tr>\n      <th>1061210</th>\n      <td>6009</td>\n      <td>R7820000</td>\n      <td>S9999</td>\n      <td>3REP15</td>\n      <td>F10</td>\n      <td>-227843.00</td>\n      <td>CONSO</td>\n      <td>93.0</td>\n      <td>2020-06-01</td>\n      <td>CH</td>\n      <td>Consolidated</td>\n      <td>Actual</td>\n    </tr>\n    <tr>\n      <th>1061211</th>\n      <td>6009</td>\n      <td>R7820000</td>\n      <td>S9999</td>\n      <td>3REP15</td>\n      <td>F10</td>\n      <td>-227843.00</td>\n      <td>CONSO</td>\n      <td>152.0</td>\n      <td>2020-07-01</td>\n      <td>CH</td>\n      <td>Consolidated</td>\n      <td>Actual</td>\n    </tr>\n    <tr>\n      <th>1061212</th>\n      <td>6009</td>\n      <td>R7820000</td>\n      <td>S9999</td>\n      <td>3REP15</td>\n      <td>F10</td>\n      <td>227843.00</td>\n      <td>CONSO</td>\n      <td>93.0</td>\n      <td>2020-07-01</td>\n      <td>CH</td>\n      <td>Consolidated</td>\n      <td>Actual</td>\n    </tr>\n    <tr>\n      <th>1061213</th>\n      <td>6009</td>\n      <td>R7820000</td>\n      <td>S9999</td>\n      <td>3REP15</td>\n      <td>F10</td>\n      <td>227843.00</td>\n      <td>CONSO</td>\n      <td>152.0</td>\n      <td>2020-08-01</td>\n      <td>CH</td>\n      <td>Consolidated</td>\n      <td>Actual</td>\n    </tr>\n    <tr>\n      <th>1061214</th>\n      <td>6009</td>\n      <td>R7820000</td>\n      <td>S9999</td>\n      <td>3REP15</td>\n      <td>F10</td>\n      <td>-227843.00</td>\n      <td>CONSO</td>\n      <td>39.0</td>\n      <td>2020-08-01</td>\n      <td>CH</td>\n      <td>Consolidated</td>\n      <td>Actual</td>\n    </tr>\n  </tbody>\n</table>\n<p>1061215 rows × 12 columns</p>\n</div>"
     },
     "metadata": {},
     "execution_count": 262
    }
   ],
   "source": [
    "df_monthly"
   ]
  },
  {
   "cell_type": "code",
   "execution_count": 263,
   "metadata": {},
   "outputs": [],
   "source": [
    "df_fx = df_fx.rename({'PERIOD': 'D_PE'}, axis='columns')\n",
    "df_fx = df_fx.rename({'CURRENCY': 'D_CU'}, axis='columns')"
   ]
  },
  {
   "cell_type": "code",
   "execution_count": 264,
   "metadata": {},
   "outputs": [
    {
     "output_type": "execute_result",
     "data": {
      "text/plain": "    D_CU  FX_RATE_FINAL  FX_RATE_AVG       D_PE Scenario\n0    GBP        0.87578     0.886399 2019-01-01  Actuals\n1    PLN        4.27360     4.292022 2019-01-01  Actuals\n2    RON        4.72710     4.704326 2019-01-01  Actuals\n3    BRL        4.20410     4.277548 2019-01-01  Actuals\n4    USD        1.14880     1.141787 2019-01-01  Actuals\n..   ...            ...          ...        ...      ...\n361  RON        4.84040     4.821777 2020-08-01  Actuals\n362  USD        1.19400     1.118047 2020-08-01  Actuals\n363  ZAR       19.95890    18.672779 2020-08-01  Actuals\n364  NaN            NaN          NaN        NaT      NaN\n365                 NaN          NaN        NaT      NaN\n\n[366 rows x 5 columns]",
      "text/html": "<div>\n<style scoped>\n    .dataframe tbody tr th:only-of-type {\n        vertical-align: middle;\n    }\n\n    .dataframe tbody tr th {\n        vertical-align: top;\n    }\n\n    .dataframe thead th {\n        text-align: right;\n    }\n</style>\n<table border=\"1\" class=\"dataframe\">\n  <thead>\n    <tr style=\"text-align: right;\">\n      <th></th>\n      <th>D_CU</th>\n      <th>FX_RATE_FINAL</th>\n      <th>FX_RATE_AVG</th>\n      <th>D_PE</th>\n      <th>Scenario</th>\n    </tr>\n  </thead>\n  <tbody>\n    <tr>\n      <th>0</th>\n      <td>GBP</td>\n      <td>0.87578</td>\n      <td>0.886399</td>\n      <td>2019-01-01</td>\n      <td>Actuals</td>\n    </tr>\n    <tr>\n      <th>1</th>\n      <td>PLN</td>\n      <td>4.27360</td>\n      <td>4.292022</td>\n      <td>2019-01-01</td>\n      <td>Actuals</td>\n    </tr>\n    <tr>\n      <th>2</th>\n      <td>RON</td>\n      <td>4.72710</td>\n      <td>4.704326</td>\n      <td>2019-01-01</td>\n      <td>Actuals</td>\n    </tr>\n    <tr>\n      <th>3</th>\n      <td>BRL</td>\n      <td>4.20410</td>\n      <td>4.277548</td>\n      <td>2019-01-01</td>\n      <td>Actuals</td>\n    </tr>\n    <tr>\n      <th>4</th>\n      <td>USD</td>\n      <td>1.14880</td>\n      <td>1.141787</td>\n      <td>2019-01-01</td>\n      <td>Actuals</td>\n    </tr>\n    <tr>\n      <th>...</th>\n      <td>...</td>\n      <td>...</td>\n      <td>...</td>\n      <td>...</td>\n      <td>...</td>\n    </tr>\n    <tr>\n      <th>361</th>\n      <td>RON</td>\n      <td>4.84040</td>\n      <td>4.821777</td>\n      <td>2020-08-01</td>\n      <td>Actuals</td>\n    </tr>\n    <tr>\n      <th>362</th>\n      <td>USD</td>\n      <td>1.19400</td>\n      <td>1.118047</td>\n      <td>2020-08-01</td>\n      <td>Actuals</td>\n    </tr>\n    <tr>\n      <th>363</th>\n      <td>ZAR</td>\n      <td>19.95890</td>\n      <td>18.672779</td>\n      <td>2020-08-01</td>\n      <td>Actuals</td>\n    </tr>\n    <tr>\n      <th>364</th>\n      <td>NaN</td>\n      <td>NaN</td>\n      <td>NaN</td>\n      <td>NaT</td>\n      <td>NaN</td>\n    </tr>\n    <tr>\n      <th>365</th>\n      <td></td>\n      <td>NaN</td>\n      <td>NaN</td>\n      <td>NaT</td>\n      <td>NaN</td>\n    </tr>\n  </tbody>\n</table>\n<p>366 rows × 5 columns</p>\n</div>"
     },
     "metadata": {},
     "execution_count": 264
    }
   ],
   "source": [
    "df_fx"
   ]
  },
  {
   "cell_type": "code",
   "execution_count": 265,
   "metadata": {},
   "outputs": [],
   "source": [
    "df_fx=df_fx[df_fx['D_PE']=='2020-08-01']\n"
   ]
  },
  {
   "cell_type": "code",
   "execution_count": 266,
   "metadata": {},
   "outputs": [],
   "source": [
    "df_fx=df_fx[df_fx['Scenario']=='Actuals']"
   ]
  },
  {
   "cell_type": "code",
   "execution_count": 267,
   "metadata": {},
   "outputs": [
    {
     "output_type": "execute_result",
     "data": {
      "text/plain": "    D_CU  FX_RATE_FINAL  FX_RATE_AVG       D_PE Scenario\n349  BRL        6.47390     5.618604 2020-08-01  Actuals\n350  CAD        1.56010     1.516661 2020-08-01  Actuals\n351  CNY        8.17110     7.844130 2020-08-01  Actuals\n352  COP     4489.89372  4130.989140 2020-08-01  Actuals\n353  EUR        1.00000     1.000000 2020-08-01  Actuals\n354  GBP        0.89605     0.881747 2020-08-01  Actuals\n355  HUF      354.54000   346.418889 2020-08-01  Actuals\n356  JPY      126.47000   120.454912 2020-08-01  Actuals\n357  KRW     1415.76000  1344.416374 2020-08-01  Actuals\n358  MOP        9.53120     8.934587 2020-08-01  Actuals\n359  MXN       26.09380    24.387303 2020-08-01  Actuals\n360  PLN        4.39690     4.416779 2020-08-01  Actuals\n361  RON        4.84040     4.821777 2020-08-01  Actuals\n362  USD        1.19400     1.118047 2020-08-01  Actuals\n363  ZAR       19.95890    18.672779 2020-08-01  Actuals",
      "text/html": "<div>\n<style scoped>\n    .dataframe tbody tr th:only-of-type {\n        vertical-align: middle;\n    }\n\n    .dataframe tbody tr th {\n        vertical-align: top;\n    }\n\n    .dataframe thead th {\n        text-align: right;\n    }\n</style>\n<table border=\"1\" class=\"dataframe\">\n  <thead>\n    <tr style=\"text-align: right;\">\n      <th></th>\n      <th>D_CU</th>\n      <th>FX_RATE_FINAL</th>\n      <th>FX_RATE_AVG</th>\n      <th>D_PE</th>\n      <th>Scenario</th>\n    </tr>\n  </thead>\n  <tbody>\n    <tr>\n      <th>349</th>\n      <td>BRL</td>\n      <td>6.47390</td>\n      <td>5.618604</td>\n      <td>2020-08-01</td>\n      <td>Actuals</td>\n    </tr>\n    <tr>\n      <th>350</th>\n      <td>CAD</td>\n      <td>1.56010</td>\n      <td>1.516661</td>\n      <td>2020-08-01</td>\n      <td>Actuals</td>\n    </tr>\n    <tr>\n      <th>351</th>\n      <td>CNY</td>\n      <td>8.17110</td>\n      <td>7.844130</td>\n      <td>2020-08-01</td>\n      <td>Actuals</td>\n    </tr>\n    <tr>\n      <th>352</th>\n      <td>COP</td>\n      <td>4489.89372</td>\n      <td>4130.989140</td>\n      <td>2020-08-01</td>\n      <td>Actuals</td>\n    </tr>\n    <tr>\n      <th>353</th>\n      <td>EUR</td>\n      <td>1.00000</td>\n      <td>1.000000</td>\n      <td>2020-08-01</td>\n      <td>Actuals</td>\n    </tr>\n    <tr>\n      <th>354</th>\n      <td>GBP</td>\n      <td>0.89605</td>\n      <td>0.881747</td>\n      <td>2020-08-01</td>\n      <td>Actuals</td>\n    </tr>\n    <tr>\n      <th>355</th>\n      <td>HUF</td>\n      <td>354.54000</td>\n      <td>346.418889</td>\n      <td>2020-08-01</td>\n      <td>Actuals</td>\n    </tr>\n    <tr>\n      <th>356</th>\n      <td>JPY</td>\n      <td>126.47000</td>\n      <td>120.454912</td>\n      <td>2020-08-01</td>\n      <td>Actuals</td>\n    </tr>\n    <tr>\n      <th>357</th>\n      <td>KRW</td>\n      <td>1415.76000</td>\n      <td>1344.416374</td>\n      <td>2020-08-01</td>\n      <td>Actuals</td>\n    </tr>\n    <tr>\n      <th>358</th>\n      <td>MOP</td>\n      <td>9.53120</td>\n      <td>8.934587</td>\n      <td>2020-08-01</td>\n      <td>Actuals</td>\n    </tr>\n    <tr>\n      <th>359</th>\n      <td>MXN</td>\n      <td>26.09380</td>\n      <td>24.387303</td>\n      <td>2020-08-01</td>\n      <td>Actuals</td>\n    </tr>\n    <tr>\n      <th>360</th>\n      <td>PLN</td>\n      <td>4.39690</td>\n      <td>4.416779</td>\n      <td>2020-08-01</td>\n      <td>Actuals</td>\n    </tr>\n    <tr>\n      <th>361</th>\n      <td>RON</td>\n      <td>4.84040</td>\n      <td>4.821777</td>\n      <td>2020-08-01</td>\n      <td>Actuals</td>\n    </tr>\n    <tr>\n      <th>362</th>\n      <td>USD</td>\n      <td>1.19400</td>\n      <td>1.118047</td>\n      <td>2020-08-01</td>\n      <td>Actuals</td>\n    </tr>\n    <tr>\n      <th>363</th>\n      <td>ZAR</td>\n      <td>19.95890</td>\n      <td>18.672779</td>\n      <td>2020-08-01</td>\n      <td>Actuals</td>\n    </tr>\n  </tbody>\n</table>\n</div>"
     },
     "metadata": {},
     "execution_count": 267
    }
   ],
   "source": [
    "df_fx"
   ]
  },
  {
   "cell_type": "code",
   "execution_count": 268,
   "metadata": {},
   "outputs": [
    {
     "output_type": "execute_result",
     "data": {
      "text/plain": "Index(['D_RU', 'Reporting unit (description)', 'Revised method (Closing)',\n       'Revised Conso. (Closing)', 'Revised Own. Int. (Closing)',\n       'Revised Fin. Int. (Closing)', 'Revised method (Opening package)',\n       'Revised Conso. (Opening package)',\n       'Revised Own. Int. (Opening package)',\n       'Revised Fin. Int. (Opening package)', 'Scope status (Closing)',\n       'EDPR-NA Scope', 'NEO-3 Scope', 'EDPR-BR Scope', 'EDPR-OF Scope',\n       'Scope', 'Scope-Check', 'Country', 'Management Structure', 'D_CU',\n       'SAP Code_PreAdj', 'SAP description', 'SAP Code', 'D_PE'],\n      dtype='object')"
     },
     "metadata": {},
     "execution_count": 268
    }
   ],
   "source": [
    "df_company.columns"
   ]
  },
  {
   "cell_type": "code",
   "execution_count": 269,
   "metadata": {},
   "outputs": [],
   "source": [
    "df_fx.drop(['D_PE'], axis=1, inplace= True)"
   ]
  },
  {
   "cell_type": "code",
   "execution_count": 270,
   "metadata": {},
   "outputs": [],
   "source": [
    "df_merged_RU_fx = pd.merge(df_company,df_fx,  how='left', on='D_CU')\n",
    "#df_merged_RU_fx = pd.merge(df_company,df_fx,  how='left', on=['D_RU', 'D_PE'])\n"
   ]
  },
  {
   "cell_type": "code",
   "execution_count": 271,
   "metadata": {},
   "outputs": [],
   "source": [
    "#df_merged_RU_fx = df_merged_RU_fx.rename({'Reporting unit (code)': 'D_RU'}, axis='columns')"
   ]
  },
  {
   "cell_type": "code",
   "execution_count": 272,
   "metadata": {},
   "outputs": [
    {
     "output_type": "execute_result",
     "data": {
      "text/plain": "Index(['D_RU', 'Reporting unit (description)', 'Revised method (Closing)',\n       'Revised Conso. (Closing)', 'Revised Own. Int. (Closing)',\n       'Revised Fin. Int. (Closing)', 'Revised method (Opening package)',\n       'Revised Conso. (Opening package)',\n       'Revised Own. Int. (Opening package)',\n       'Revised Fin. Int. (Opening package)', 'Scope status (Closing)',\n       'EDPR-NA Scope', 'NEO-3 Scope', 'EDPR-BR Scope', 'EDPR-OF Scope',\n       'Scope', 'Scope-Check', 'Country', 'Management Structure', 'D_CU',\n       'SAP Code_PreAdj', 'SAP description', 'SAP Code', 'D_PE',\n       'FX_RATE_FINAL', 'FX_RATE_AVG', 'Scenario'],\n      dtype='object')"
     },
     "metadata": {},
     "execution_count": 272
    }
   ],
   "source": [
    "df_merged_RU_fx.columns"
   ]
  },
  {
   "cell_type": "code",
   "execution_count": 273,
   "metadata": {},
   "outputs": [],
   "source": [
    "#df_merged_RU_fx = df_merged_RU_fx.rename({'PERIOD': 'D_PE'}, axis='columns')"
   ]
  },
  {
   "cell_type": "code",
   "execution_count": 274,
   "metadata": {},
   "outputs": [],
   "source": [
    "#df_merged_RU_fx = df_merged_RU_fx.rename({'D_PE_y': 'D_PE'}, axis='columns')\n",
    "#df_merged_RU_fx = df_merged_RU_fx.rename({'D_PE_x': 'D_PE'}, axis='columns')\n"
   ]
  },
  {
   "cell_type": "code",
   "execution_count": 275,
   "metadata": {},
   "outputs": [
    {
     "output_type": "execute_result",
     "data": {
      "text/plain": "Index(['D_RU', 'Reporting unit (description)', 'Revised method (Closing)',\n       'Revised Conso. (Closing)', 'Revised Own. Int. (Closing)',\n       'Revised Fin. Int. (Closing)', 'Revised method (Opening package)',\n       'Revised Conso. (Opening package)',\n       'Revised Own. Int. (Opening package)',\n       'Revised Fin. Int. (Opening package)', 'Scope status (Closing)',\n       'EDPR-NA Scope', 'NEO-3 Scope', 'EDPR-BR Scope', 'EDPR-OF Scope',\n       'Scope', 'Scope-Check', 'Country', 'Management Structure', 'D_CU',\n       'SAP Code_PreAdj', 'SAP description', 'SAP Code', 'D_PE',\n       'FX_RATE_FINAL', 'FX_RATE_AVG', 'Scenario'],\n      dtype='object')"
     },
     "metadata": {},
     "execution_count": 275
    }
   ],
   "source": [
    "df_merged_RU_fx.columns"
   ]
  },
  {
   "cell_type": "code",
   "execution_count": 276,
   "metadata": {},
   "outputs": [],
   "source": [
    "df_merged_RU_fx=df_merged_RU_fx[['D_RU','D_CU', 'FX_RATE_FINAL','FX_RATE_AVG', 'D_PE', 'Scenario']]"
   ]
  },
  {
   "cell_type": "code",
   "execution_count": 277,
   "metadata": {},
   "outputs": [],
   "source": [
    "#df_fx=df_fx[df_fx['D_PE']=='2020-08-01']"
   ]
  },
  {
   "cell_type": "code",
   "execution_count": 278,
   "metadata": {},
   "outputs": [],
   "source": [
    "df_merged_RU_fx_filtro= df_merged_RU_fx[df_merged_RU_fx['D_RU']==\"6009\"]"
   ]
  },
  {
   "cell_type": "code",
   "execution_count": 279,
   "metadata": {},
   "outputs": [],
   "source": [
    "df_monthly_filtro=df_monthly[df_monthly['D_RU']==\"6009\"]"
   ]
  },
  {
   "cell_type": "code",
   "execution_count": 280,
   "metadata": {},
   "outputs": [],
   "source": [
    "df_monthly['D_RU']= df_monthly['D_RU'].astype(str)\n",
    "df_merged_RU_fx['D_RU']= df_merged_RU_fx['D_RU'].astype(str)"
   ]
  },
  {
   "cell_type": "code",
   "execution_count": 281,
   "metadata": {},
   "outputs": [],
   "source": [
    "df_monthly=df_monthly[df_monthly['D_RU']!='6009']"
   ]
  },
  {
   "cell_type": "code",
   "execution_count": 282,
   "metadata": {},
   "outputs": [
    {
     "output_type": "execute_result",
     "data": {
      "text/plain": "         D_RU      D_AC     T1    D_AU D_FL  EUR_Amount    D_LE  D_NU  \\\n0        3890  A2111400   3896  0LIA01  F00    27457.12     NaN   NaN   \n1        3890  A2111400   3896  2ELI15  F00   -27457.12     NaN   NaN   \n2        3890  A2111400   3898  0LIA01  F00    22557.55     NaN   NaN   \n3        3890  A2111400   3898  2ELI15  F00   -22557.55     NaN   NaN   \n4        3890  A2111400   3900  0LIA01  F00   626594.85     NaN   NaN   \n...       ...       ...    ...     ...  ...         ...     ...   ...   \n1060989  3992  P8800000  S9999  2CNV20  F80      507.75  AUTOCO  52.0   \n1060990  3992  P8800000  S9999  2CNV20  F80     -153.32  AUTOCO  54.0   \n1060991  3992  P8800000  S9999  2CNV20  F80     -171.17  AUTOCO  26.0   \n1060992  3992  P8800000  S9999  2CNV20  F80     -507.75  AUTOCO  52.0   \n1060993  3992  P8800000  S9999  2CNV20  F80      678.92  AUTOCO  57.0   \n\n               D_PE D_SP          D_CO    D_SC  \n0        2020-01-01   BR  Consolidated  Actual  \n1        2020-01-01   BR  Consolidated  Actual  \n2        2020-01-01   BR  Consolidated  Actual  \n3        2020-01-01   BR  Consolidated  Actual  \n4        2020-01-01   BR  Consolidated  Actual  \n...             ...  ...           ...     ...  \n1060989  2020-07-01   CH  Consolidated  Actual  \n1060990  2020-07-01   CH  Consolidated  Actual  \n1060991  2020-08-01   CH  Consolidated  Actual  \n1060992  2020-08-01   CH  Consolidated  Actual  \n1060993  2020-08-01   CH  Consolidated  Actual  \n\n[1060926 rows x 12 columns]",
      "text/html": "<div>\n<style scoped>\n    .dataframe tbody tr th:only-of-type {\n        vertical-align: middle;\n    }\n\n    .dataframe tbody tr th {\n        vertical-align: top;\n    }\n\n    .dataframe thead th {\n        text-align: right;\n    }\n</style>\n<table border=\"1\" class=\"dataframe\">\n  <thead>\n    <tr style=\"text-align: right;\">\n      <th></th>\n      <th>D_RU</th>\n      <th>D_AC</th>\n      <th>T1</th>\n      <th>D_AU</th>\n      <th>D_FL</th>\n      <th>EUR_Amount</th>\n      <th>D_LE</th>\n      <th>D_NU</th>\n      <th>D_PE</th>\n      <th>D_SP</th>\n      <th>D_CO</th>\n      <th>D_SC</th>\n    </tr>\n  </thead>\n  <tbody>\n    <tr>\n      <th>0</th>\n      <td>3890</td>\n      <td>A2111400</td>\n      <td>3896</td>\n      <td>0LIA01</td>\n      <td>F00</td>\n      <td>27457.12</td>\n      <td>NaN</td>\n      <td>NaN</td>\n      <td>2020-01-01</td>\n      <td>BR</td>\n      <td>Consolidated</td>\n      <td>Actual</td>\n    </tr>\n    <tr>\n      <th>1</th>\n      <td>3890</td>\n      <td>A2111400</td>\n      <td>3896</td>\n      <td>2ELI15</td>\n      <td>F00</td>\n      <td>-27457.12</td>\n      <td>NaN</td>\n      <td>NaN</td>\n      <td>2020-01-01</td>\n      <td>BR</td>\n      <td>Consolidated</td>\n      <td>Actual</td>\n    </tr>\n    <tr>\n      <th>2</th>\n      <td>3890</td>\n      <td>A2111400</td>\n      <td>3898</td>\n      <td>0LIA01</td>\n      <td>F00</td>\n      <td>22557.55</td>\n      <td>NaN</td>\n      <td>NaN</td>\n      <td>2020-01-01</td>\n      <td>BR</td>\n      <td>Consolidated</td>\n      <td>Actual</td>\n    </tr>\n    <tr>\n      <th>3</th>\n      <td>3890</td>\n      <td>A2111400</td>\n      <td>3898</td>\n      <td>2ELI15</td>\n      <td>F00</td>\n      <td>-22557.55</td>\n      <td>NaN</td>\n      <td>NaN</td>\n      <td>2020-01-01</td>\n      <td>BR</td>\n      <td>Consolidated</td>\n      <td>Actual</td>\n    </tr>\n    <tr>\n      <th>4</th>\n      <td>3890</td>\n      <td>A2111400</td>\n      <td>3900</td>\n      <td>0LIA01</td>\n      <td>F00</td>\n      <td>626594.85</td>\n      <td>NaN</td>\n      <td>NaN</td>\n      <td>2020-01-01</td>\n      <td>BR</td>\n      <td>Consolidated</td>\n      <td>Actual</td>\n    </tr>\n    <tr>\n      <th>...</th>\n      <td>...</td>\n      <td>...</td>\n      <td>...</td>\n      <td>...</td>\n      <td>...</td>\n      <td>...</td>\n      <td>...</td>\n      <td>...</td>\n      <td>...</td>\n      <td>...</td>\n      <td>...</td>\n      <td>...</td>\n    </tr>\n    <tr>\n      <th>1060989</th>\n      <td>3992</td>\n      <td>P8800000</td>\n      <td>S9999</td>\n      <td>2CNV20</td>\n      <td>F80</td>\n      <td>507.75</td>\n      <td>AUTOCO</td>\n      <td>52.0</td>\n      <td>2020-07-01</td>\n      <td>CH</td>\n      <td>Consolidated</td>\n      <td>Actual</td>\n    </tr>\n    <tr>\n      <th>1060990</th>\n      <td>3992</td>\n      <td>P8800000</td>\n      <td>S9999</td>\n      <td>2CNV20</td>\n      <td>F80</td>\n      <td>-153.32</td>\n      <td>AUTOCO</td>\n      <td>54.0</td>\n      <td>2020-07-01</td>\n      <td>CH</td>\n      <td>Consolidated</td>\n      <td>Actual</td>\n    </tr>\n    <tr>\n      <th>1060991</th>\n      <td>3992</td>\n      <td>P8800000</td>\n      <td>S9999</td>\n      <td>2CNV20</td>\n      <td>F80</td>\n      <td>-171.17</td>\n      <td>AUTOCO</td>\n      <td>26.0</td>\n      <td>2020-08-01</td>\n      <td>CH</td>\n      <td>Consolidated</td>\n      <td>Actual</td>\n    </tr>\n    <tr>\n      <th>1060992</th>\n      <td>3992</td>\n      <td>P8800000</td>\n      <td>S9999</td>\n      <td>2CNV20</td>\n      <td>F80</td>\n      <td>-507.75</td>\n      <td>AUTOCO</td>\n      <td>52.0</td>\n      <td>2020-08-01</td>\n      <td>CH</td>\n      <td>Consolidated</td>\n      <td>Actual</td>\n    </tr>\n    <tr>\n      <th>1060993</th>\n      <td>3992</td>\n      <td>P8800000</td>\n      <td>S9999</td>\n      <td>2CNV20</td>\n      <td>F80</td>\n      <td>678.92</td>\n      <td>AUTOCO</td>\n      <td>57.0</td>\n      <td>2020-08-01</td>\n      <td>CH</td>\n      <td>Consolidated</td>\n      <td>Actual</td>\n    </tr>\n  </tbody>\n</table>\n<p>1060926 rows × 12 columns</p>\n</div>"
     },
     "metadata": {},
     "execution_count": 282
    }
   ],
   "source": [
    "df_monthly"
   ]
  },
  {
   "cell_type": "code",
   "execution_count": 283,
   "metadata": {},
   "outputs": [
    {
     "output_type": "execute_result",
     "data": {
      "text/plain": "      D_RU D_CU  FX_RATE_FINAL  FX_RATE_AVG        D_PE Scenario\n0     3000  EUR         1.0000     1.000000  2020-01-01  Actuals\n1     3001  EUR         1.0000     1.000000  2020-01-01  Actuals\n2     3002  EUR         1.0000     1.000000  2020-01-01  Actuals\n3     3016  EUR         1.0000     1.000000  2020-01-01  Actuals\n4     3017  EUR         1.0000     1.000000  2020-01-01  Actuals\n...    ...  ...            ...          ...         ...      ...\n4388  3963  CAD         1.5601     1.516661  2020-08-01  Actuals\n4389  3964  CAD         1.5601     1.516661  2020-08-01  Actuals\n4390  3991  BRL         6.4739     5.618604  2020-08-01  Actuals\n4391  3992  BRL         6.4739     5.618604  2020-08-01  Actuals\n4392  6009  EUR         1.0000     1.000000  2020-08-01  Actuals\n\n[4393 rows x 6 columns]",
      "text/html": "<div>\n<style scoped>\n    .dataframe tbody tr th:only-of-type {\n        vertical-align: middle;\n    }\n\n    .dataframe tbody tr th {\n        vertical-align: top;\n    }\n\n    .dataframe thead th {\n        text-align: right;\n    }\n</style>\n<table border=\"1\" class=\"dataframe\">\n  <thead>\n    <tr style=\"text-align: right;\">\n      <th></th>\n      <th>D_RU</th>\n      <th>D_CU</th>\n      <th>FX_RATE_FINAL</th>\n      <th>FX_RATE_AVG</th>\n      <th>D_PE</th>\n      <th>Scenario</th>\n    </tr>\n  </thead>\n  <tbody>\n    <tr>\n      <th>0</th>\n      <td>3000</td>\n      <td>EUR</td>\n      <td>1.0000</td>\n      <td>1.000000</td>\n      <td>2020-01-01</td>\n      <td>Actuals</td>\n    </tr>\n    <tr>\n      <th>1</th>\n      <td>3001</td>\n      <td>EUR</td>\n      <td>1.0000</td>\n      <td>1.000000</td>\n      <td>2020-01-01</td>\n      <td>Actuals</td>\n    </tr>\n    <tr>\n      <th>2</th>\n      <td>3002</td>\n      <td>EUR</td>\n      <td>1.0000</td>\n      <td>1.000000</td>\n      <td>2020-01-01</td>\n      <td>Actuals</td>\n    </tr>\n    <tr>\n      <th>3</th>\n      <td>3016</td>\n      <td>EUR</td>\n      <td>1.0000</td>\n      <td>1.000000</td>\n      <td>2020-01-01</td>\n      <td>Actuals</td>\n    </tr>\n    <tr>\n      <th>4</th>\n      <td>3017</td>\n      <td>EUR</td>\n      <td>1.0000</td>\n      <td>1.000000</td>\n      <td>2020-01-01</td>\n      <td>Actuals</td>\n    </tr>\n    <tr>\n      <th>...</th>\n      <td>...</td>\n      <td>...</td>\n      <td>...</td>\n      <td>...</td>\n      <td>...</td>\n      <td>...</td>\n    </tr>\n    <tr>\n      <th>4388</th>\n      <td>3963</td>\n      <td>CAD</td>\n      <td>1.5601</td>\n      <td>1.516661</td>\n      <td>2020-08-01</td>\n      <td>Actuals</td>\n    </tr>\n    <tr>\n      <th>4389</th>\n      <td>3964</td>\n      <td>CAD</td>\n      <td>1.5601</td>\n      <td>1.516661</td>\n      <td>2020-08-01</td>\n      <td>Actuals</td>\n    </tr>\n    <tr>\n      <th>4390</th>\n      <td>3991</td>\n      <td>BRL</td>\n      <td>6.4739</td>\n      <td>5.618604</td>\n      <td>2020-08-01</td>\n      <td>Actuals</td>\n    </tr>\n    <tr>\n      <th>4391</th>\n      <td>3992</td>\n      <td>BRL</td>\n      <td>6.4739</td>\n      <td>5.618604</td>\n      <td>2020-08-01</td>\n      <td>Actuals</td>\n    </tr>\n    <tr>\n      <th>4392</th>\n      <td>6009</td>\n      <td>EUR</td>\n      <td>1.0000</td>\n      <td>1.000000</td>\n      <td>2020-08-01</td>\n      <td>Actuals</td>\n    </tr>\n  </tbody>\n</table>\n<p>4393 rows × 6 columns</p>\n</div>"
     },
     "metadata": {},
     "execution_count": 283
    }
   ],
   "source": [
    "df_merged_RU_fx"
   ]
  },
  {
   "cell_type": "code",
   "execution_count": 284,
   "metadata": {},
   "outputs": [],
   "source": [
    "df_merged_RU_fx=df_merged_RU_fx[df_merged_RU_fx['D_RU']!='6009']"
   ]
  },
  {
   "cell_type": "code",
   "execution_count": 285,
   "metadata": {},
   "outputs": [],
   "source": [
    "df_merged=pd.merge(df_monthly, df_merged_RU_fx, how='left', on=['D_RU', 'D_PE'])\n",
    "#df_merged=pd.merge(df_monthly, df_merged_RU_fx, how='left', on=['D_RU'])"
   ]
  },
  {
   "cell_type": "code",
   "execution_count": 286,
   "metadata": {},
   "outputs": [
    {
     "output_type": "execute_result",
     "data": {
      "text/plain": "         D_RU      D_AC     T1    D_AU D_FL  EUR_Amount    D_LE  D_NU  \\\n0        3890  A2111400   3896  0LIA01  F00    27457.12     NaN   NaN   \n1        3890  A2111400   3896  2ELI15  F00   -27457.12     NaN   NaN   \n2        3890  A2111400   3898  0LIA01  F00    22557.55     NaN   NaN   \n3        3890  A2111400   3898  2ELI15  F00   -22557.55     NaN   NaN   \n4        3890  A2111400   3900  0LIA01  F00   626594.85     NaN   NaN   \n...       ...       ...    ...     ...  ...         ...     ...   ...   \n1060921  3992  P8800000  S9999  2CNV20  F80      507.75  AUTOCO  52.0   \n1060922  3992  P8800000  S9999  2CNV20  F80     -153.32  AUTOCO  54.0   \n1060923  3992  P8800000  S9999  2CNV20  F80     -171.17  AUTOCO  26.0   \n1060924  3992  P8800000  S9999  2CNV20  F80     -507.75  AUTOCO  52.0   \n1060925  3992  P8800000  S9999  2CNV20  F80      678.92  AUTOCO  57.0   \n\n               D_PE D_SP          D_CO    D_SC D_CU  FX_RATE_FINAL  \\\n0        2020-01-01   BR  Consolidated  Actual  BRL         6.4739   \n1        2020-01-01   BR  Consolidated  Actual  BRL         6.4739   \n2        2020-01-01   BR  Consolidated  Actual  BRL         6.4739   \n3        2020-01-01   BR  Consolidated  Actual  BRL         6.4739   \n4        2020-01-01   BR  Consolidated  Actual  BRL         6.4739   \n...             ...  ...           ...     ...  ...            ...   \n1060921  2020-07-01   CH  Consolidated  Actual  BRL         6.4739   \n1060922  2020-07-01   CH  Consolidated  Actual  BRL         6.4739   \n1060923  2020-08-01   CH  Consolidated  Actual  BRL         6.4739   \n1060924  2020-08-01   CH  Consolidated  Actual  BRL         6.4739   \n1060925  2020-08-01   CH  Consolidated  Actual  BRL         6.4739   \n\n         FX_RATE_AVG Scenario  \n0           5.618604  Actuals  \n1           5.618604  Actuals  \n2           5.618604  Actuals  \n3           5.618604  Actuals  \n4           5.618604  Actuals  \n...              ...      ...  \n1060921     5.618604  Actuals  \n1060922     5.618604  Actuals  \n1060923     5.618604  Actuals  \n1060924     5.618604  Actuals  \n1060925     5.618604  Actuals  \n\n[1060926 rows x 16 columns]",
      "text/html": "<div>\n<style scoped>\n    .dataframe tbody tr th:only-of-type {\n        vertical-align: middle;\n    }\n\n    .dataframe tbody tr th {\n        vertical-align: top;\n    }\n\n    .dataframe thead th {\n        text-align: right;\n    }\n</style>\n<table border=\"1\" class=\"dataframe\">\n  <thead>\n    <tr style=\"text-align: right;\">\n      <th></th>\n      <th>D_RU</th>\n      <th>D_AC</th>\n      <th>T1</th>\n      <th>D_AU</th>\n      <th>D_FL</th>\n      <th>EUR_Amount</th>\n      <th>D_LE</th>\n      <th>D_NU</th>\n      <th>D_PE</th>\n      <th>D_SP</th>\n      <th>D_CO</th>\n      <th>D_SC</th>\n      <th>D_CU</th>\n      <th>FX_RATE_FINAL</th>\n      <th>FX_RATE_AVG</th>\n      <th>Scenario</th>\n    </tr>\n  </thead>\n  <tbody>\n    <tr>\n      <th>0</th>\n      <td>3890</td>\n      <td>A2111400</td>\n      <td>3896</td>\n      <td>0LIA01</td>\n      <td>F00</td>\n      <td>27457.12</td>\n      <td>NaN</td>\n      <td>NaN</td>\n      <td>2020-01-01</td>\n      <td>BR</td>\n      <td>Consolidated</td>\n      <td>Actual</td>\n      <td>BRL</td>\n      <td>6.4739</td>\n      <td>5.618604</td>\n      <td>Actuals</td>\n    </tr>\n    <tr>\n      <th>1</th>\n      <td>3890</td>\n      <td>A2111400</td>\n      <td>3896</td>\n      <td>2ELI15</td>\n      <td>F00</td>\n      <td>-27457.12</td>\n      <td>NaN</td>\n      <td>NaN</td>\n      <td>2020-01-01</td>\n      <td>BR</td>\n      <td>Consolidated</td>\n      <td>Actual</td>\n      <td>BRL</td>\n      <td>6.4739</td>\n      <td>5.618604</td>\n      <td>Actuals</td>\n    </tr>\n    <tr>\n      <th>2</th>\n      <td>3890</td>\n      <td>A2111400</td>\n      <td>3898</td>\n      <td>0LIA01</td>\n      <td>F00</td>\n      <td>22557.55</td>\n      <td>NaN</td>\n      <td>NaN</td>\n      <td>2020-01-01</td>\n      <td>BR</td>\n      <td>Consolidated</td>\n      <td>Actual</td>\n      <td>BRL</td>\n      <td>6.4739</td>\n      <td>5.618604</td>\n      <td>Actuals</td>\n    </tr>\n    <tr>\n      <th>3</th>\n      <td>3890</td>\n      <td>A2111400</td>\n      <td>3898</td>\n      <td>2ELI15</td>\n      <td>F00</td>\n      <td>-22557.55</td>\n      <td>NaN</td>\n      <td>NaN</td>\n      <td>2020-01-01</td>\n      <td>BR</td>\n      <td>Consolidated</td>\n      <td>Actual</td>\n      <td>BRL</td>\n      <td>6.4739</td>\n      <td>5.618604</td>\n      <td>Actuals</td>\n    </tr>\n    <tr>\n      <th>4</th>\n      <td>3890</td>\n      <td>A2111400</td>\n      <td>3900</td>\n      <td>0LIA01</td>\n      <td>F00</td>\n      <td>626594.85</td>\n      <td>NaN</td>\n      <td>NaN</td>\n      <td>2020-01-01</td>\n      <td>BR</td>\n      <td>Consolidated</td>\n      <td>Actual</td>\n      <td>BRL</td>\n      <td>6.4739</td>\n      <td>5.618604</td>\n      <td>Actuals</td>\n    </tr>\n    <tr>\n      <th>...</th>\n      <td>...</td>\n      <td>...</td>\n      <td>...</td>\n      <td>...</td>\n      <td>...</td>\n      <td>...</td>\n      <td>...</td>\n      <td>...</td>\n      <td>...</td>\n      <td>...</td>\n      <td>...</td>\n      <td>...</td>\n      <td>...</td>\n      <td>...</td>\n      <td>...</td>\n      <td>...</td>\n    </tr>\n    <tr>\n      <th>1060921</th>\n      <td>3992</td>\n      <td>P8800000</td>\n      <td>S9999</td>\n      <td>2CNV20</td>\n      <td>F80</td>\n      <td>507.75</td>\n      <td>AUTOCO</td>\n      <td>52.0</td>\n      <td>2020-07-01</td>\n      <td>CH</td>\n      <td>Consolidated</td>\n      <td>Actual</td>\n      <td>BRL</td>\n      <td>6.4739</td>\n      <td>5.618604</td>\n      <td>Actuals</td>\n    </tr>\n    <tr>\n      <th>1060922</th>\n      <td>3992</td>\n      <td>P8800000</td>\n      <td>S9999</td>\n      <td>2CNV20</td>\n      <td>F80</td>\n      <td>-153.32</td>\n      <td>AUTOCO</td>\n      <td>54.0</td>\n      <td>2020-07-01</td>\n      <td>CH</td>\n      <td>Consolidated</td>\n      <td>Actual</td>\n      <td>BRL</td>\n      <td>6.4739</td>\n      <td>5.618604</td>\n      <td>Actuals</td>\n    </tr>\n    <tr>\n      <th>1060923</th>\n      <td>3992</td>\n      <td>P8800000</td>\n      <td>S9999</td>\n      <td>2CNV20</td>\n      <td>F80</td>\n      <td>-171.17</td>\n      <td>AUTOCO</td>\n      <td>26.0</td>\n      <td>2020-08-01</td>\n      <td>CH</td>\n      <td>Consolidated</td>\n      <td>Actual</td>\n      <td>BRL</td>\n      <td>6.4739</td>\n      <td>5.618604</td>\n      <td>Actuals</td>\n    </tr>\n    <tr>\n      <th>1060924</th>\n      <td>3992</td>\n      <td>P8800000</td>\n      <td>S9999</td>\n      <td>2CNV20</td>\n      <td>F80</td>\n      <td>-507.75</td>\n      <td>AUTOCO</td>\n      <td>52.0</td>\n      <td>2020-08-01</td>\n      <td>CH</td>\n      <td>Consolidated</td>\n      <td>Actual</td>\n      <td>BRL</td>\n      <td>6.4739</td>\n      <td>5.618604</td>\n      <td>Actuals</td>\n    </tr>\n    <tr>\n      <th>1060925</th>\n      <td>3992</td>\n      <td>P8800000</td>\n      <td>S9999</td>\n      <td>2CNV20</td>\n      <td>F80</td>\n      <td>678.92</td>\n      <td>AUTOCO</td>\n      <td>57.0</td>\n      <td>2020-08-01</td>\n      <td>CH</td>\n      <td>Consolidated</td>\n      <td>Actual</td>\n      <td>BRL</td>\n      <td>6.4739</td>\n      <td>5.618604</td>\n      <td>Actuals</td>\n    </tr>\n  </tbody>\n</table>\n<p>1060926 rows × 16 columns</p>\n</div>"
     },
     "metadata": {},
     "execution_count": 286
    }
   ],
   "source": [
    "df_merged"
   ]
  },
  {
   "cell_type": "code",
   "execution_count": 287,
   "metadata": {},
   "outputs": [],
   "source": [
    "df_merged_filtro=df_merged[df_merged['D_RU']==\"6009\"]"
   ]
  },
  {
   "cell_type": "code",
   "execution_count": 288,
   "metadata": {},
   "outputs": [],
   "source": [
    "df_merged_PL=df_merged[df_merged['D_AC'].str[0]=='R']"
   ]
  },
  {
   "cell_type": "code",
   "execution_count": 289,
   "metadata": {},
   "outputs": [],
   "source": [
    "df_merged_PL['LC_Amount']=df_merged_PL.apply(lambda row : row['EUR_Amount'] * row['FX_RATE_AVG'], axis=1)"
   ]
  },
  {
   "cell_type": "code",
   "execution_count": 290,
   "metadata": {},
   "outputs": [],
   "source": [
    "#df_merged_A=df_merged[df_merged['D_AC'].str[0]=='A']\n",
    "#df_merged_P=df_merged[df_merged['D_AC'].str[0]=='P']"
   ]
  },
  {
   "cell_type": "code",
   "execution_count": 291,
   "metadata": {},
   "outputs": [],
   "source": [
    "#df_merged_BS= pd.merge(df_merged_A,df_merged_P,  how='outer')"
   ]
  },
  {
   "cell_type": "code",
   "execution_count": 292,
   "metadata": {},
   "outputs": [],
   "source": [
    "#df_merged_A=df_merged[df_merged['D_AC'].str[0]=='A' or df_merged['D_AC'].str[0]=='P']\n",
    "\n",
    "df_BS=df_merged[df_merged['D_AC'].str[0]!='R']"
   ]
  },
  {
   "cell_type": "code",
   "execution_count": 293,
   "metadata": {},
   "outputs": [],
   "source": [
    "df_BS['LC_Amount']=df_merged.apply(lambda row : row['EUR_Amount'] * row['FX_RATE_FINAL'], axis=1)"
   ]
  },
  {
   "cell_type": "code",
   "execution_count": 294,
   "metadata": {},
   "outputs": [],
   "source": [
    "#df_monthly_lc = pd.merge(df_merged_BS,df_merged_PL,  how='outer')\n",
    "df_monthly_lc= pd.concat([df_BS, df_merged_PL], ignore_index=True)"
   ]
  },
  {
   "cell_type": "code",
   "execution_count": 295,
   "metadata": {},
   "outputs": [],
   "source": [
    "df_monthly_lc.to_csv(df_out_fullpath, index=False)"
   ]
  },
  {
   "cell_type": "code",
   "execution_count": 296,
   "metadata": {},
   "outputs": [],
   "source": [
    "df_monthly_lc_error = df_monthly_lc[df_monthly_lc['D_CU']==\"NaN\"]"
   ]
  },
  {
   "cell_type": "code",
   "execution_count": 297,
   "metadata": {},
   "outputs": [],
   "source": [
    "df_monthly_lc_error.to_csv(df_out_fullpath_error)"
   ]
  },
  {
   "cell_type": "code",
   "execution_count": 298,
   "metadata": {},
   "outputs": [],
   "source": [
    "df_merged_PL.to_csv(df_out_fullpath_PL, index=False)"
   ]
  },
  {
   "cell_type": "code",
   "execution_count": 299,
   "metadata": {},
   "outputs": [],
   "source": [
    "df_BS.to_csv(df_out_fullpath_BS, index=False)"
   ]
  }
 ]
}